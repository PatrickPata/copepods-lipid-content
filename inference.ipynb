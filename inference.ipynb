{
 "cells": [
  {
   "cell_type": "code",
   "execution_count": null,
   "metadata": {},
   "outputs": [],
   "source": [
    "from pathlib import Path\n",
    "import pathlib\n",
    "temp = pathlib.PosixPath\n",
    "pathlib.PosixPath = pathlib.WindowsPath\n",
    "\n",
    "from fastai.vision.all import load_learner\n",
    "import numpy as np\n",
    "from PIL import Image\n",
    "from IPython.display import display\n",
    "\n",
    "np.int = np.int32 # Need to add this to make preset model work"
   ]
  },
  {
   "cell_type": "code",
   "execution_count": null,
   "metadata": {},
   "outputs": [],
   "source": [
    "def add_mask2(source: Image.Image, truth: np.ndarray, pred: np.ndarray) -> Image.Image:\n",
    "    \"\"\"\n",
    "    Given source black and white image, true and predicted mask this function returns image\n",
    "    with areas colored as following:\n",
    "    - Green - annotation only\n",
    "    - Red - prediction only\n",
    "    - Yellow - overlap\n",
    "    \"\"\"\n",
    "    source = source.convert('RGBA')\n",
    "    M = np.zeros((*truth.shape, 4), dtype=np.uint8)\n",
    "    M[:, :, 1] = truth[:, :] * 255\n",
    "    M[:, :, 0] = pred[:, :] * 255\n",
    "    M[:, :, 3] = ((truth > 0) | (pred > 0)) * 75\n",
    "    \n",
    "    mask = Image.fromarray(M, 'RGBA')\n",
    "    return Image.alpha_composite(source, mask)"
   ]
  },
  {
   "cell_type": "code",
   "execution_count": null,
   "metadata": {},
   "outputs": [],
   "source": [
    "def image2segmentation_path(imgpath: Path) -> Path:\n",
    "    return Path(str(imgpath).replace(\"inputs\", \"segmentations\"))\n",
    "\n",
    "def pixels2area(n: int) -> float:\n",
    "    \"\"\"Converts number of pixels into area in um^2\"\"\"\n",
    "    return n * 0.023 * 0.023\n",
    "\n",
    "def area2mass(A: float) -> float:\n",
    "    \"\"\"Converts area in um^2 into mass in mg\"\"\"\n",
    "    return 0.197 * (A ** 1.38)"
   ]
  },
  {
   "cell_type": "code",
   "execution_count": null,
   "metadata": {},
   "outputs": [],
   "source": [
    "model = load_learner(\"models/learner.pkl\")  # File models/learner.pkl\n",
    "model.load(\"model_resnet34\")  # File models/model_resnet34.pth\n",
    "model.dls.device = 'cpu'"
   ]
  },
  {
   "cell_type": "code",
   "execution_count": null,
   "metadata": {},
   "outputs": [],
   "source": [
    "# imgs = sorted(list(Path(\"images/example_inputs_orig\").glob(\"*.bmp\")))\n",
    "imgs = sorted(list(Path(\"images/example_inputs_lowres\").glob(\"*.bmp\")))\n",
    "# imgs = sorted(list(Path(\"images/example_inputs_lowres2\").glob(\"*.bmp\")))\n",
    "# imgs"
   ]
  },
  {
   "cell_type": "code",
   "execution_count": null,
   "metadata": {},
   "outputs": [],
   "source": [
    "for pimg in imgs:\n",
    "    im = Image.open(pimg)\n",
    "    p_segmentation = image2segmentation_path(pimg)\n",
    "\n",
    "    mask, *_ = model.predict(pimg)\n",
    "    im_pred_mask = mask.numpy()\n",
    "\n",
    "    if p_segmentation is not None:\n",
    "        im_truth = np.array(Image.open(p_segmentation).convert(\"L\"))\n",
    "    else:\n",
    "        im_truth = np.zeros_like(im_pred_mask)\n",
    "\n",
    "    img_with_masks = add_mask2(im, im_truth, im_pred_mask)\n",
    "\n",
    "    lipid_annotated = area2mass(pixels2area((im_truth > 0).sum()))\n",
    "    lipid_predicted = area2mass(pixels2area((im_pred_mask > 0.5).sum()))\n",
    "    print(\"************************\")\n",
    "    print(pimg)\n",
    "    print(f\"Lipid annotation: {lipid_annotated:.5}mg\")\n",
    "    print(f\"Lipid prediction: {lipid_predicted:.5}mg\")\n",
    "    # Green - annotation\n",
    "    # Red - prediction\n",
    "    # Yellow - overlap\n",
    "    display(img_with_masks.convert(\"RGB\"))"
   ]
  },
  {
   "cell_type": "code",
   "execution_count": null,
   "metadata": {},
   "outputs": [],
   "source": []
  },
  {
   "cell_type": "code",
   "execution_count": null,
   "metadata": {},
   "outputs": [],
   "source": []
  }
 ],
 "metadata": {
  "interpreter": {
   "hash": "651d16dc913c4430c441d6ee5dd40dcae41b3f524f6b630523e4f72fa267ffa8"
  },
  "kernelspec": {
   "display_name": "Python 3 (ipykernel)",
   "language": "python",
   "name": "python3"
  },
  "language_info": {
   "codemirror_mode": {
    "name": "ipython",
    "version": 3
   },
   "file_extension": ".py",
   "mimetype": "text/x-python",
   "name": "python",
   "nbconvert_exporter": "python",
   "pygments_lexer": "ipython3",
   "version": "3.9.19"
  }
 },
 "nbformat": 4,
 "nbformat_minor": 4
}
